{
 "cells": [
  {
   "cell_type": "markdown",
   "metadata": {
    "id": "XsCrWk5jgYB1"
   },
   "source": [
    "\n",
    "\n",
    "# **Programming for Finance Lab 1**\n",
    "**Instructor:** Muhammad **Awais**  \n",
    "**Semester:** Spring 2025  \n",
    "**Department of Financial Technology**  \n",
    "**National University of Computer and Emerging Sciences, Islamabad Campus**\n",
    "\n",
    "## Lab Instructions\n",
    "- Submit your work as a **Jupyter Notebook (.ipynb)** file.\n",
    "- Name your file in the format **“ROLLNO_SECTION_LABNO.ipynb”** (E.g., 22I_1234_BSFT06C_LAB01.ipynb).\n",
    "- Ensure all code runs correctly before submission.\n",
    "- **Do not use AI-generated code (e.g., GPT, Copilot, etc.).** Your work must be original.\n",
    "- Submit the notebook on **Google Classroom**.\n"
   ]
  },
  {
   "cell_type": "markdown",
   "metadata": {
    "id": "g2mfR0Iwgfot"
   },
   "source": [
    "### **Task 1: Declaring Financial Variables and Printing Values**\n",
    "**Objective:**  \n",
    "Learn how to define and use variables to represent financial data. This task helps you understand how to store values like stock prices and number of shares and perform simple calculations on them.\n",
    "\n",
    "**Instructions:**\n",
    "- Define a variable `stock_price` to store the price of a single stock.\n",
    "- Define `num_shares` to store the number of shares you have.\n",
    "- Calculate the `total_investment` by multiplying the stock price with the number of shares.\n",
    "- Print the values of `stock_price`, `num_shares`, and `total_investment`."
   ]
  },
  {
   "cell_type": "code",
   "execution_count": 1,
   "metadata": {
    "id": "nrYXh-x9gT95"
   },
   "outputs": [
    {
     "name": "stdout",
     "output_type": "stream",
     "text": [
      "Stock Price: $ 100\n",
      "Number of Shares: 20\n",
      "Total Investment: $ 2000\n"
     ]
    }
   ],
   "source": [
    "stock_price = 100  \n",
    "num_shares = 20  \n",
    "total_investment = stock_price * num_shares\n",
    "\n",
    "print(\"Stock Price: $\", stock_price)\n",
    "print(\"Number of Shares:\", num_shares)\n",
    "print(\"Total Investment: $\", total_investment)"
   ]
  },
  {
   "cell_type": "markdown",
   "metadata": {
    "id": "NQSefwJ5ld99"
   },
   "source": [
    "### **Task 2: Identifying Data Types in Finance**\n",
    "\n",
    "**Objective:**  \n",
    "Understand the different types of data used in financial calculations.\n",
    "\n",
    "**Instructions:**\n",
    "- Print the data types of `stock_price`, `num_shares`, and `total_investment` to understand how Python recognizes different types of values (e.g., numbers with decimals, integers, and results from calculations)."
   ]
  },
  {
   "cell_type": "code",
   "execution_count": 3,
   "metadata": {
    "id": "dLHleNH5liMG"
   },
   "outputs": [
    {
     "data": {
      "text/plain": [
       "int"
      ]
     },
     "execution_count": 3,
     "metadata": {},
     "output_type": "execute_result"
    }
   ],
   "source": [
    "stock_price = 100\n",
    "num_shares = 20\n",
    "total_investment = stock_price * num_shares\n",
    "type(stock_price)\n",
    "type(num_shares)\n",
    "type(total_investment)\n",
    "\n",
    "\n"
   ]
  },
  {
   "cell_type": "markdown",
   "metadata": {
    "id": "KAwpyGzwliub"
   },
   "source": [
    "### **Task 3: Basic Arithmetic Operations for Finance**\n",
    "**Objective:**  \n",
    "Perform basic arithmetic operations commonly used in finance, such as calculating profit, loss, and percentage change.\n",
    "\n",
    "**Instructions:**\n",
    "- Define a `buying_price`, `selling_price` and `num_shares` for stock transactions.\n",
    "- Calculate the profit from the transaction (selling price minus buying price, multiplied by the number of shares).\n",
    "\n",
    "    **Profit** = (Selling Price - Buying Price) × Number of Shares\n",
    "\n",
    "- Calculate the percentage change in price from buying to selling.\n",
    "\n",
    "    **Percentage Change** = ((Selling Price - Buying Price) / Buying Price) × 100\n",
    "- Print the calculated profit and percentage change.\n"
   ]
  },
  {
   "cell_type": "code",
   "execution_count": 15,
   "metadata": {
    "id": "IVRj9C53lm-d"
   },
   "outputs": [
    {
     "name": "stdout",
     "output_type": "stream",
     "text": [
      "Profit: $ 1000\n",
      "Percentage Change : % 20.0\n"
     ]
    }
   ],
   "source": [
    "buying_price = 100\n",
    "selling_price = 120\n",
    "num_shares = 50\n",
    "profit = (selling_price - buying_price) * num_shares\n",
    "percentage_change = ((selling_price - buying_price) / buying_price) * 100\n",
    "print(\"Profit: $\", profit)\n",
    "print(\"Percentage Change : %\",percentage_change)\n",
    "\n"
   ]
  },
  {
   "cell_type": "markdown",
   "metadata": {
    "id": "_bygM0DSlnZO"
   },
   "source": [
    "# **Task 4: Practice with String Operations**\n",
    "\n",
    "This practice file is designed to help beginners explore various string operations in Python, such as case conversion, length calculation, word replacement, and substring manipulation. The exercises encourage understanding and experimentation with Python's string methods and functionalities.\n",
    "\n",
    "---\n",
    "\n",
    "## **Description of Exercises**\n",
    "\n",
    "### **1. Uppercase Conversion**\n",
    "- Create a variable with the word `\"python\"`.\n",
    "- Print the word in all uppercase letters.\n",
    "\n",
    "### **2. Lowercase Conversion**\n",
    "- Create a variable with the word `\"PROGRAMMING\"`.\n",
    "- Print the word in all lowercase letters.\n",
    "\n",
    "### **3. Word Length**\n",
    "- Get a word as input from the user.\n",
    "- Print the number of letters in the word.\n",
    "\n",
    "### **4. Word Replacement**\n",
    "- Create a sentence: `\"I like programming\"`.\n",
    "- Replace the word `\"programming\"` with `\"coding\"` and print the result.\n",
    "\n",
    "### **5. Full Name Joining**\n",
    "- Get the first name and last name as input from the user.\n",
    "- Join them with a space in between and print the full name.\n",
    "\n",
    "### **6. First and Last Letters**\n",
    "- Create a variable with a word.\n",
    "- Print the first letter of the word.\n",
    "- Print the last letter of the word.\n",
    "\n",
    "### **7. Substring Search**\n",
    "- Get a sentence as input from the user.\n",
    "- Check if the word `\"hello\"` exists in the sentence.\n",
    "- Print the result (True/False).\n",
    "\n",
    "### **8. Hyphenated Words**\n",
    "- Create two variables with words.\n",
    "- Join them together with a hyphen (`-`) in between.\n",
    "- Example: `word1 = \"blue\"`, `word2 = \"sky\"` → Output: `\"blue-sky\"`.\n",
    "\n",
    "### **Bonus Exercise: Word Repetition**\n",
    "- Get a word as input from the user.\n",
    "- Print the word 3 times, separated by spaces.\n",
    "  - Example: If the input is `\"hello\"`, the output should be: `\"hello hello hello\"`.\n",
    "\n",
    "---\n",
    "\n",
    "## **Learning Objectives**\n",
    "- Learn to manipulate strings with case conversion methods (`upper()`, `lower()`).\n",
    "- Practice counting characters using the `len()` function.\n",
    "- Understand how to replace parts of a string with the `replace()` method.\n",
    "- Explore joining and formatting strings.\n",
    "- Develop skills to check for substrings within larger strings.\n",
    "- Experiment with concatenation and repetition of strings.\n",
    "\n",
    "---\n",
    "\n"
   ]
  },
  {
   "cell_type": "code",
   "execution_count": null,
   "metadata": {
    "id": "fLljwCpOlwDF"
   },
   "outputs": [],
   "source": [
    "# Learning Simple String Operations\n",
    "\n",
    "# Example 1: Basic text operations\n",
    "print(\"Example 1: Playing with text\")\n",
    "message = \"hello\"\n",
    "print(\"Original text:\", message)\n",
    "print(\"UPPERCASE:\", message.upper())\n",
    "print(\"First letter:\", message[0])\n",
    "print()\n",
    "\n",
    "# Example 2: Joining words\n",
    "print(\"Example 2: Joining words\")\n",
    "first_word = \"blue\"\n",
    "second_word = \"sky\"\n",
    "joined_words = first_word + \" \" + second_word\n",
    "print(\"First word:\", first_word)\n",
    "print(\"Second word:\", second_word)\n",
    "print(\"Joined words:\", joined_words)\n",
    "print()\n",
    "\n",
    "# Example 3: Counting letters\n",
    "print(\"Example 3: Counting letters\")\n",
    "word = \"butterfly\"\n",
    "letter_count = len(word)\n",
    "print(\"The word is:\", word)\n",
    "print(\"Number of letters:\", letter_count)\n",
    "print()\n",
    "\n",
    "# Example 4: Finding words\n",
    "print(\"Example 4: Finding words\")\n",
    "sentence = \"I love pizza\"\n",
    "has_pizza = \"pizza\" in sentence\n",
    "print(\"The sentence:\", sentence)\n",
    "print(\"Does it contain 'pizza'?\", has_pizza)\n",
    "print()\n",
    "\n",
    "# Example 5: Simple text replacement\n",
    "print(\"Example 5: Replacing words\")\n",
    "my_food = \"I like pasta\"\n",
    "new_food = my_food.replace(\"pasta\", \"pizza\")\n",
    "print(\"Original:\", my_food)\n",
    "print(\"After replacement:\", new_food)\n"
   ]
  },
  {
   "cell_type": "code",
   "execution_count": 37,
   "metadata": {
    "id": "Xkh4HHpFwX-k"
   },
   "outputs": [
    {
     "name": "stdout",
     "output_type": "stream",
     "text": [
      "Original text: python\n",
      "UPPERCASE: PYTHON\n",
      "Original text: PROGRAMMING\n",
      "Lowercase: programming\n",
      "The word is: abdullah\n",
      "Number of letters: 8\n",
      "\n",
      "Original: I like programming\n",
      "After replacement: I like coding\n",
      "First name: Abdullah\n",
      "Second name: Gujjar\n",
      "Full name: Abdullah Gujjar\n",
      "\n",
      "v\n",
      "e\n",
      "The sentence: I love fakhar\n",
      "Does it contain 'hello'? False\n",
      "\n",
      "Joined words: blue-sky\n",
      "\n"
     ]
    }
   ],
   "source": [
    "#Your Tasks\n",
    "# Practice with String Operations\n",
    "\n",
    "# 1. Create a variable with the word \"python\"\n",
    "# Print it in all uppercase letters\n",
    "message = \"python\"\n",
    "print(\"Original text:\", message)\n",
    "print(\"UPPERCASE:\", message.upper())\n",
    "\n",
    "# 2. Create a variable with the word \"PROGRAMMING\"\n",
    "# Print it in all lowercase letters\n",
    "message = \"PROGRAMMING\"\n",
    "print(\"Original text:\", message)\n",
    "print(\"Lowercase:\", message.lower())\n",
    "\n",
    "# 3. Get a word from user\n",
    "# Print how many letters are in that word\n",
    "word = \"abdullah\"\n",
    "letter_count = len(word)\n",
    "print(\"The word is:\", word)\n",
    "print(\"Number of letters:\", letter_count)\n",
    "print()\n",
    "\n",
    "\n",
    "# 4. Create a sentence: \"I like programming\"\n",
    "# Replace \"programming\" with \"coding\"\n",
    "my_sentence = \"I like programming\"\n",
    "new_sentence = my_sentence.replace(\"programming\", \"coding\")\n",
    "print(\"Original:\", my_sentence)\n",
    "print(\"After replacement:\", new_sentence)\n",
    "\n",
    "# 5. Get a first name from user\n",
    "# Get a last name from user\n",
    "# Join them with a space in between\n",
    "first_name = \"Abdullah\"\n",
    "second_name = \"Gujjar\"\n",
    "joined_words = first_name + \" \" + second_name\n",
    "print(\"First name:\", first_name)\n",
    "print(\"Second name:\", second_name)\n",
    "print(\"Full name:\", joined_words)\n",
    "print()\n",
    "\n",
    "# 6. Create a word variable\n",
    "# Print its first letter\n",
    "# Print its last letter\n",
    "word = \"variable\"\n",
    "print(word[0])\n",
    "print(word[7])\n",
    "\n",
    "# 7. Get a sentence from user\n",
    "# Check if the word \"hello\" is in that sentence\n",
    "# Print the result\n",
    "sentence = \"I love fakhar\"\n",
    "has_hello = \"hello\" in sentence\n",
    "print(\"The sentence:\", sentence)\n",
    "print(\"Does it contain 'hello'?\", has_hello)\n",
    "print()\n",
    "\n",
    "\n",
    "\n",
    "# 8. Create two variables with words\n",
    "# Print them together with a hyphen in between\n",
    "# Example: word1 = \"blue\", word2 = \"sky\" → \"blue-sky\"\n",
    "first_word = \"blue\"\n",
    "second_word = \"sky\"\n",
    "joined_words = first_word + \"-\" + second_word\n",
    "\n",
    "print(\"Joined words:\", joined_words)\n",
    "print()\n",
    "\n"
   ]
  },
  {
   "cell_type": "markdown",
   "metadata": {
    "id": "KxIMOLlQlwfG"
   },
   "source": [
    "### **Task 5: Calculate Total Cost of Investment**\n",
    "\n",
    "**Objective:**  \n",
    "Calculate the total cost of an investment based on the stock name, price per share, and number of shares the user wants to buy.\n",
    "\n",
    "### Instructions:\n",
    "1. Prompt the user to input the following:\n",
    "   - **Stock Name**: The name of the stock.\n",
    "   - **Price per Share**: The price of one share of the stock.\n",
    "   - **Number of Shares**: The number of shares the user wants to buy.\n",
    "2. Use the formula to calculate the total cost of the investment:\n",
    "\n",
    "   **Total Cost** = Price per Share × Number of Shares\n",
    "\n",
    "*   List item\n",
    "*   List item\n",
    "\n",
    "\n",
    "3. Display the **Total Cost** of the investment to the user.\n",
    "   "
   ]
  },
  {
   "cell_type": "code",
   "execution_count": 49,
   "metadata": {
    "id": "fugul8HMlzHx"
   },
   "outputs": [
    {
     "name": "stdin",
     "output_type": "stream",
     "text": [
      "Enter the name of the stock:  23\n",
      "Enter the price per share:  33\n",
      "Enter the number of shares:  3\n"
     ]
    },
    {
     "name": "stdout",
     "output_type": "stream",
     "text": [
      "Total cost 99.0\n"
     ]
    }
   ],
   "source": [
    "stock_name =input(\"Enter the name of the stock: \")\n",
    "price_per_share =float (input(\"Enter the price per share: \"))\n",
    "number_of_shares =float(input(\"Enter the number of shares: \"))\n",
    "total_cost = price_per_share * number_of_shares\n",
    "print(\"Total cost\",total_cost)"
   ]
  },
  {
   "cell_type": "markdown",
   "metadata": {
    "id": "SB6mP3Tllzio"
   },
   "source": [
    "### **Task 6: Simple Interest Calculator for Investment Growth**\n",
    "**Objective:**  \n",
    "Apply basic financial formulas to calculate the growth of an investment using simple interest.\n",
    "\n",
    "**Instructions:**\n",
    "- Ask the user for the principal amount (initial investment), interest rate, and the time period (in years).\n",
    "- Calculate the simple interest using the formula: Interest = (Principal * Rate * Time) / 100.\n",
    "- Calculate and display the total amount after adding the interest to the principal."
   ]
  },
  {
   "cell_type": "code",
   "execution_count": 51,
   "metadata": {
    "id": "jGwGSAqQl3YN"
   },
   "outputs": [
    {
     "name": "stdin",
     "output_type": "stream",
     "text": [
      "Enter the principal amount (initial investment):  34\n",
      "Enter the annual interest rate (in %):  45\n",
      "Enter the time period (in years):  45\n"
     ]
    },
    {
     "name": "stdout",
     "output_type": "stream",
     "text": [
      "interest 688.5\n",
      "Total amount 722.5\n"
     ]
    }
   ],
   "source": [
    "principal = float(input(\"Enter the principal amount (initial investment): \"))\n",
    "rate = float(input(\"Enter the annual interest rate (in %): \"))\n",
    "time = float(input(\"Enter the time period (in years): \"))\n",
    "interest = (principal * rate * time) / 100\n",
    "total_amount = principal + interest\n",
    "print(\"interest\",interest)\n",
    "print(\"Total amount\",total_amount)\n"
   ]
  },
  {
   "cell_type": "markdown",
   "metadata": {
    "id": "5Rf8jI6QmA-u"
   },
   "source": [
    "### **Task 7: Currency Conversion Calculator**\n",
    "**Objective:**  \n",
    "Convert currency values from USD to other major currencies.  \n",
    "\n",
    "**Instructions:**  \n",
    "1. Ask the user for an amount in **USD**.  \n",
    "2. Convert the amount into the following currencies using **fixed exchange rates** (example rates as of 2025, update as needed):  \n",
    "   - **Euros (EUR)** → 1 USD = 0.91 EUR  \n",
    "   - **British Pounds (GBP)** → 1 USD = 0.76 GBP  \n",
    "   - **Pakistani Rupees (PKR)** → 1 USD = 280 PKR  \n"
   ]
  },
  {
   "cell_type": "code",
   "execution_count": 53,
   "metadata": {
    "id": "MiWx357tmGFp"
   },
   "outputs": [
    {
     "name": "stdin",
     "output_type": "stream",
     "text": [
      "Enter the amount in USD:  230\n"
     ]
    },
    {
     "name": "stdout",
     "output_type": "stream",
     "text": [
      "amount in Euros (EUR): 209.3\n",
      "amount in British Pounds (GBP): 174.8\n",
      "amount in Pakistani Rupees (PKR): 64400.0\n"
     ]
    }
   ],
   "source": [
    "usd_amount = float(input(\"Enter the amount in USD: \"))\n",
    "usd_to_eur = 0.91  \n",
    "usd_to_gbp = 0.76 \n",
    "usd_to_pkr = 280   \n",
    "amount_in_eur = usd_amount * usd_to_eur\n",
    "amount_in_gbp = usd_amount * usd_to_gbp\n",
    "amount_in_pkr = usd_amount * usd_to_pkr\n",
    "print(\"amount in Euros (EUR):\",amount_in_eur)\n",
    "print(\"amount in British Pounds (GBP):\",amount_in_gbp)\n",
    "print(\"amount in Pakistani Rupees (PKR):\",amount_in_pkr)\n"
   ]
  },
  {
   "cell_type": "markdown",
   "metadata": {
    "id": "mLwwXRcAtnNr"
   },
   "source": [
    "### **Task 8: Finding the Largest Investment Value**\n",
    "**Objective:**  \n",
    "Compare investment amounts to determine the largest value.  \n",
    "\n",
    "**Instructions:**  \n",
    "1. Ask the user to enter **three different investment amounts**.  \n",
    "2. Use Python’s built-in functions to determine the **largest investment**.  "
   ]
  },
  {
   "cell_type": "code",
   "execution_count": 55,
   "metadata": {
    "id": "YDDXstK-tsmm"
   },
   "outputs": [
    {
     "name": "stdin",
     "output_type": "stream",
     "text": [
      "Enter the first investment amount:  2334\n",
      "Enter the second investment amount:  455\n",
      "Enter the third investment amount:  555\n"
     ]
    },
    {
     "name": "stdout",
     "output_type": "stream",
     "text": [
      "The largest investment amount is: 2334.0\n"
     ]
    }
   ],
   "source": [
    "investment1 = float(input(\"Enter the first investment amount: \"))\n",
    "investment2 = float(input(\"Enter the second investment amount: \"))\n",
    "investment3 = float(input(\"Enter the third investment amount: \"))\n",
    "largest_investment = max(investment1, investment2, investment3)\n",
    "print(\"The largest investment amount is:\",largest_investment)"
   ]
  },
  {
   "cell_type": "markdown",
   "metadata": {
    "id": "gma9brebt0Px"
   },
   "source": [
    "### **Task 9: Simple Calculator for Basic Operations**\n",
    "\n",
    "**Objective:**  \n",
    "Create a simple calculator program that performs basic arithmetic operations on two numbers. The user is prompted to enter two numbers, and the program automatically performs the following operations:\n",
    "\n",
    "- **Addition**\n",
    "- **Subtraction**\n",
    "- **Multiplication**\n",
    "- **Division** (with a check for division by zero)\n",
    "- **Exponentiation**\n",
    "\n",
    "### Instructions:\n",
    "1. The program will ask the user to input two numbers.\n",
    "2. The program will then display the results of the following operations on the two numbers:\n",
    "   - **Addition**: Adds the two numbers.\n",
    "   - **Subtraction**: Subtracts the second number from the first number.\n",
    "   - **Multiplication**: Multiplies the two numbers.\n",
    "   - **Division**: Divides the first number by the second number. If division by zero is attempted, the program will display an error message.\n",
    "   - **Exponentiation**: Raises the first number to the power of the second number.\n",
    "   \n",
    "\n"
   ]
  },
  {
   "cell_type": "code",
   "execution_count": 63,
   "metadata": {},
   "outputs": [
    {
     "name": "stdin",
     "output_type": "stream",
     "text": [
      "Enter Your First Number:  23\n",
      "Enter Your Second Number:  55\n"
     ]
    },
    {
     "name": "stdout",
     "output_type": "stream",
     "text": [
      "First Number:  23\n",
      "Second Number:  55\n",
      "Addition:  78\n",
      "Subtraction:  -32\n",
      "Multiplication:  1265\n",
      "Division:  0.41818181818181815\n",
      "Exponent: 785291652424037263548733517675617858730558099314688805476989869947753298407\n"
     ]
    }
   ],
   "source": [
    "num1 = int(input(\"Enter Your First Number: \"))\n",
    "num2 = int(input(\"Enter Your Second Number: \"))     \n",
    "\n",
    "add = num1 + num2\n",
    "subtract = num1 - num2\n",
    "multiplication = num1 * num2\n",
    "division = num1 / num2\n",
    "exponent = num1 ** num2\n",
    "\n",
    "\n",
    "print(\"First Number: \", num1)\n",
    "print(\"Second Number: \", num2)\n",
    "\n",
    "print(\"Addition: \", add)\n",
    "print(\"Subtraction: \", subtract)\n",
    "print(\"Multiplication: \", multiplication)\n",
    "print(\"Division: \", division)\n",
    "print(\"Exponent:\", exponent)"
   ]
  },
  {
   "cell_type": "markdown",
   "metadata": {
    "id": "1Ys9mGiymFIJ"
   },
   "source": [
    "### **Task 10: Calculate Compound Interest**\n",
    "\n",
    "**Objective:**  \n",
    "Create a program that calculates the compound interest on an investment.\n",
    "\n",
    "### Instructions:\n",
    "1. Ask the user to input:\n",
    "   - **Principal** (Initial Investment)\n",
    "   - **Rate** (Annual Interest Rate in percentage)\n",
    "   - **Time** (Number of years)\n",
    "   - **Frequency** (Number of times the interest is compounded per year)\n",
    "\n",
    "2. Use the compound interest formula:\n",
    "            A = P * (1 + r/n)^(nt)\n",
    "Where:\n",
    "- **A** = Final amount after interest\n",
    "- **P** = Principal (Initial investment)\n",
    "- **r** = Annual interest rate (decimal form)\n",
    "- **t** = Time in years\n",
    "- **n** = Number of times the interest is compounded per year\n",
    "\n",
    "3. Calculate the compound interest:\n",
    "        Compound Interest = A - P\n",
    "\n",
    "\n",
    "4. Display the **compound interest** and the **final amount**.\n",
    "\n",
    "\n"
   ]
  },
  {
   "cell_type": "code",
   "execution_count": 74,
   "metadata": {
    "id": "Nw4Mg7YBmH2c"
   },
   "outputs": [
    {
     "name": "stdin",
     "output_type": "stream",
     "text": [
      "Enter the principal (initial investment):  0.4\n",
      "Enter the annual interest rate (in percentage):  0.43\n",
      "Enter the number of years:  6\n",
      "Enter the number of times the interest is compounded per year:  2\n"
     ]
    },
    {
     "name": "stdout",
     "output_type": "stream",
     "text": [
      "Compound Interest: 0.010442912822357098\n",
      "Final Amount after years 0.4104429128223571\n"
     ]
    }
   ],
   "source": [
    "principal = float(input(\"Enter the principal (initial investment): \"))\n",
    "rate = float(input(\"Enter the annual interest rate (in percentage): \")) / 100  \n",
    "time = float(input(\"Enter the number of years: \"))\n",
    "frequency = int(input(\"Enter the number of times the interest is compounded per year: \"))\n",
    "final_amount = principal * (1 + rate / frequency) ** (frequency * time)\n",
    "compound_interest = final_amount - principal\n",
    "print(\"Compound Interest:\", compound_interest)\n",
    "print(\"Final Amount after years\",final_amount)\n"
   ]
  },
  {
   "cell_type": "markdown",
   "metadata": {
    "id": "Ijwus5kEmR9n"
   },
   "source": [
    "### Final Deliverables\n",
    "- Submit a Notebook (.ipynb) file containing all tasks.\n",
    "- Submit it on Google Classroom following the naming convention.\n",
    "- Ensure originality; AI-generated code is not allowed."
   ]
  },
  {
   "cell_type": "code",
   "execution_count": null,
   "metadata": {},
   "outputs": [],
   "source": []
  }
 ],
 "metadata": {
  "colab": {
   "provenance": []
  },
  "kernelspec": {
   "display_name": "Python [conda env:anaconda3]",
   "language": "python",
   "name": "conda-env-anaconda3-py"
  },
  "language_info": {
   "codemirror_mode": {
    "name": "ipython",
    "version": 3
   },
   "file_extension": ".py",
   "mimetype": "text/x-python",
   "name": "python",
   "nbconvert_exporter": "python",
   "pygments_lexer": "ipython3",
   "version": "3.12.7"
  }
 },
 "nbformat": 4,
 "nbformat_minor": 4
}
