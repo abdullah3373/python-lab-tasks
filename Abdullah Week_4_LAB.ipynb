{
 "cells": [
  {
   "cell_type": "markdown",
   "metadata": {
    "id": "KERUlAdU3S8e"
   },
   "source": [
    "# **Week 4 Lab - Functions and Modules in Python**\n",
    "\n",
    "## **Objective**\n",
    "This lab covers defining and using functions, working with built-in and user-defined modules, and utilizing core Python functionalities relevant to finance.\n",
    "\n",
    "---\n",
    "\n",
    "## **Task 1: Defining a Function**\n",
    "### **Instruction:**\n",
    "Define a function named `simple_interest` that calculates simple interest using the formula:\n",
    "\n",
    "$SI = \\frac{P \\times R \\times T}{100}$\n",
    "\n",
    "P = Principal amount\n",
    "\n",
    "R = Interest Rate\n",
    "\n",
    "T = Time in years\n",
    "\n",
    "Call this function with sample values and print the result.\n",
    "\n"
   ]
  },
  {
   "cell_type": "code",
   "execution_count": 2,
   "metadata": {
    "colab": {
     "base_uri": "https://localhost:8080/"
    },
    "id": "OMc5Mbp_4K9g",
    "outputId": "131b03f4-b49f-4dfa-9fd3-04e44062acfc"
   },
   "outputs": [
    {
     "name": "stdout",
     "output_type": "stream",
     "text": [
      "Simple Interest: 100.0\n"
     ]
    }
   ],
   "source": [
    "def simple_interest(P, R, T):\n",
    "    return (P * R * T) / 100\n",
    "\n",
    "principal = 1000  \n",
    "rate = 5          \n",
    "time = 2        \n",
    "\n",
    "result = simple_interest(principal, rate, time)\n",
    "print(f\"Simple Interest: {result}\")"
   ]
  },
  {
   "cell_type": "markdown",
   "metadata": {
    "id": "2ZCzpCnO4DuX"
   },
   "source": [
    "## **Task 2: Function Parameters and Return Values**\n",
    "### **Instruction:**\n",
    "1. Define a function `compound_interest` that calculates compound interest using the formula:\n",
    "\n",
    "        A = P (1 + r/n)^{n*t}\n",
    "\n",
    "2. The function should accept `P` (Principal), `r` (Rate of interest as decimal), `n` (Number of times interest applied per year), and `t` (Time in years) as parameters.\n",
    "3. The function should return the final amount `A`.\n",
    "4. Call the function with example inputs and display the result."
   ]
  },
  {
   "cell_type": "code",
   "execution_count": 4,
   "metadata": {
    "colab": {
     "base_uri": "https://localhost:8080/"
    },
    "id": "uuvqrveX4BjF",
    "outputId": "5ecbd137-bf94-4da0-e09e-bbd22f0ecb0d"
   },
   "outputs": [
    {
     "name": "stdout",
     "output_type": "stream",
     "text": [
      "Final Amount after Compound Interest: 1104.94\n"
     ]
    }
   ],
   "source": [
    "def compound_interest(P, r, n, t):\n",
    "    \"\"\"\n",
    "    Calculate the final amount using the compound interest formula.\n",
    "\n",
    "    Parameters:\n",
    "    P (float): Principal amount\n",
    "    r (float): Annual interest rate (as a decimal)\n",
    "    n (int): Number of times interest is compounded per year\n",
    "    t (float): Time in years\n",
    "\n",
    "    Returns:\n",
    "    float: Final amount after compound interest\n",
    "    \"\"\"\n",
    "    return P * (1 + r / n) ** (n * t)\n",
    "\n",
    "principal = 1000  \n",
    "rate = 0.05       \n",
    "compounding_frequency = 12  \n",
    "time = 2          \n",
    "\n",
    "final_amount = compound_interest(principal, rate, compounding_frequency, time)\n",
    "print(f\"Final Amount after Compound Interest: {final_amount:.2f}\")"
   ]
  },
  {
   "cell_type": "markdown",
   "metadata": {
    "id": "xej8dhrO4A6h"
   },
   "source": [
    "## **Task 3: Using Built-in Modules**\n",
    "### **Instruction:**\n",
    "1. Import the `math` module.\n",
    "2. Use the `sqrt()` function to compute the square root of a given number.\n",
    "3. Print the result.\n",
    "**Output should be like:**\n",
    "\n",
    "`Square root of 25 is 5.0`"
   ]
  },
  {
   "cell_type": "code",
   "execution_count": 3,
   "metadata": {
    "colab": {
     "base_uri": "https://localhost:8080/"
    },
    "id": "8q9bxBZP4EvO",
    "outputId": "90944e0f-38af-492c-9a38-caed96afb864"
   },
   "outputs": [
    {
     "name": "stdout",
     "output_type": "stream",
     "text": [
      "Square root of 25 is 5.0\n"
     ]
    }
   ],
   "source": [
    "import math\n",
    "number = 25\n",
    "square_root = math.sqrt(number)\n",
    "\n",
    "print(f\"Square root of {number} is {square_root}\")"
   ]
  },
  {
   "cell_type": "markdown",
   "metadata": {
    "id": "YMe626F336ss"
   },
   "source": [
    "## **Task 4: Creating a User-Defined Module**\n",
    "### **Instruction:**\n",
    "1. Create a Python file named `finance.py`.\n",
    "2. Define a function `calculate_net_income(revenue, expenses)` that returns net income.\n",
    "3. Import this module in another script and call the function with test values."
   ]
  },
  {
   "cell_type": "code",
   "execution_count": 5,
   "metadata": {
    "id": "AOAEx9yQ31ta"
   },
   "outputs": [
    {
     "name": "stdout",
     "output_type": "stream",
     "text": [
      "Net Income: 1800\n"
     ]
    }
   ],
   "source": [
    "import finance\n",
    "\n",
    "revenue = 5000\n",
    "expenses = 3200\n",
    "net_income = finance.calculate_net_income(revenue, expenses)\n",
    "print(f\"Net Income: {net_income}\")"
   ]
  },
  {
   "cell_type": "markdown",
   "metadata": {
    "id": "hkOs0xM2301b"
   },
   "source": [
    "## **Task 5: Working with Multiple Modules**\n",
    "### **Instruction:**\n",
    "1. Create another module named `interest.py`.\n",
    "2. Move `simple_interest` and `compound_interest` functions into `interest.py`.\n",
    "3. Write a script that imports `interest.py` and calls both functions with sample inputs.\n"
   ]
  },
  {
   "cell_type": "code",
   "execution_count": 1,
   "metadata": {
    "id": "LJDShqHz3efn"
   },
   "outputs": [
    {
     "name": "stdout",
     "output_type": "stream",
     "text": [
      "Simple Interest: 100.0\n",
      "Compound Interest: 1104.94\n"
     ]
    }
   ],
   "source": [
    "import interest\n",
    "P_simple = 1000  \n",
    "R_simple = 5     \n",
    "T_simple = 2     \n",
    "\n",
    "simple_interest_result = interest.simple_interest(P_simple, R_simple, T_simple)\n",
    "print(f\"Simple Interest: {simple_interest_result}\")\n",
    "\n",
    "P_compound = 1000  \n",
    "r_compound = 0.05   \n",
    "n_compound = 12     \n",
    "t_compound = 2     \n",
    "\n",
    "compound_interest_result = interest.compound_interest(P_compound, r_compound, n_compound, t_compound)\n",
    "print(f\"Compound Interest: {compound_interest_result:.2f}\")"
   ]
  },
  {
   "cell_type": "markdown",
   "metadata": {
    "id": "EGLECbIP3mpk"
   },
   "source": [
    "## **Task 6: Adding Tax Calculation to Net Income**\n",
    "### **Instruction:**\n",
    "1. Modify the `calculate_net_income` function to include tax deduction.\n",
    "2. If the revenue exceeds 5000, apply a tax rate of 10% on the net income.\n",
    "3. Return the adjusted net income.\n"
   ]
  },
  {
   "cell_type": "code",
   "execution_count": 1,
   "metadata": {
    "colab": {
     "base_uri": "https://localhost:8080/"
    },
    "id": "90-7bzUx8RrC",
    "outputId": "b1f100d7-9a32-43d6-ea83-d1445d3f941e"
   },
   "outputs": [
    {
     "name": "stdout",
     "output_type": "stream",
     "text": [
      "Net Income (Revenue = 4000): 2000\n",
      "Net Income (Revenue = 6000): 3500\n"
     ]
    }
   ],
   "source": [
    "import finance\n",
    "\n",
    "# Test case 1: Revenue <= 5000 (no tax)\n",
    "revenue1 = 4000\n",
    "expenses1 = 2000\n",
    "net_income1 = finance.calculate_net_income(revenue1, expenses1)\n",
    "print(f\"Net Income (Revenue = {revenue1}): {net_income1}\")\n",
    "\n",
    "# Test case 2: Revenue > 5000 (10% tax applied)\n",
    "revenue2 = 6000\n",
    "expenses2 = 2500\n",
    "net_income2 = finance.calculate_net_income(revenue2, expenses2)\n",
    "print(f\"Net Income (Revenue = {revenue2}): {net_income2}\")"
   ]
  },
  {
   "cell_type": "markdown",
   "metadata": {
    "id": "EM_4PG7o3eLO"
   },
   "source": [
    "## **Task 7: Exception Handling in Functions**\n",
    "### **Instruction:**\n",
    "1. Modify the `simple_interest` function to handle cases where negative values are entered.\n",
    "2. If any input is negative, return an error message.\n"
   ]
  },
  {
   "cell_type": "code",
   "execution_count": null,
   "metadata": {
    "id": "eUs8OIlG3qbq"
   },
   "outputs": [],
   "source": [
    "import interest\n",
    "\n",
    "# Test case 1: Valid inputs\n",
    "P1 = 1000  \n",
    "R1 = 5     \n",
    "T1 = 2     \n",
    "\n",
    "result1 = interest.simple_interest(P1, R1, T1)\n",
    "print(f\"Simple Interest (Valid Inputs): {result1}\")\n",
    "\n"
   ]
  },
  {
   "cell_type": "markdown",
   "metadata": {
    "id": "kjQZYVT23aq8"
   },
   "source": [
    "## **Task 8: Creating a Menu-Driven Program**\n",
    "### **Instruction:**\n",
    "1. Create a menu-driven program that allows the user to choose between different financial calculations.\n",
    "2. The program should display the following options:\n",
    "   - Calculate Simple Interest\n",
    "   - Calculate Compound Interest\n",
    "   - Calculate Net Income\n",
    "   - Exit the program\n",
    "3. Use `input()` to take the user's choice and required inputs dynamically.\n",
    "4. Validate user input to ensure proper values are entered (e.g., numeric values for calculations).\n",
    "5. Implement a loop so that the menu repeats until the user chooses to exit.\n",
    "6. Display appropriate messages for invalid inputs and guide the user accordingly.\n",
    "\n",
    "### **Hint:**\n",
    "- Use a `while True` loop to continuously display the menu until the user selects the exit option.\n",
    "- Convert user inputs into appropriate data types (e.g., `float` for monetary values).\n",
    "- Use conditional statements (`if-elif-else`) to handle different choices and call respective functions.\n",
    "- Implement error handling to avoid unexpected crashes due to invalid inputs."
   ]
  },
  {
   "cell_type": "code",
   "execution_count": null,
   "metadata": {
    "colab": {
     "base_uri": "https://localhost:8080/"
    },
    "id": "_WxDdxee3SqR",
    "outputId": "400493f3-98c4-490c-f3e4-a73f4a5c2941"
   },
   "outputs": [
    {
     "name": "stdout",
     "output_type": "stream",
     "text": [
      "\n",
      "Financial Calculator Menu:\n",
      "1. Calculate Simple Interest\n",
      "2. Calculate Compound Interest\n",
      "3. Calculate Net Income\n",
      "4. Exit\n"
     ]
    }
   ],
   "source": [
    "import interest\n",
    "import finance\n",
    "\n",
    "def main():\n",
    "    while True:\n",
    "        print(\"\\nFinancial Calculator Menu:\")\n",
    "        print(\"1. Calculate Simple Interest\")\n",
    "        print(\"2. Calculate Compound Interest\")\n",
    "        print(\"3. Calculate Net Income\")\n",
    "        print(\"4. Exit\")\n",
    "\n",
    "        choice = input(\"Enter your choice (1-4): \")  \n",
    "\n",
    "        if choice == '1':\n",
    "            try:\n",
    "                principal = float(input(\"Enter principal amount: \"))\n",
    "                rate = float(input(\"Enter interest rate: \"))\n",
    "                time = float(input(\"Enter time period: \"))\n",
    "                result = interest.simple_interest(principal, rate, time)\n",
    "                print(\"Simple Interest:\", result)\n",
    "            except ValueError:\n",
    "                print(\"Invalid input! Please enter numbers only.\")\n",
    "\n",
    "        elif choice == '2':\n",
    "            try:\n",
    "                principal = float(input(\"Enter principal amount: \"))\n",
    "                rate = float(input(\"Enter interest rate: \"))\n",
    "                time = float(input(\"Enter time period: \"))\n",
    "                n = int(input(\"Enter number of times interest is compounded per year: \"))\n",
    "                result = interest.compound_interest(principal, rate, time, n)\n",
    "                print(\"Compound Interest:\", result)\n",
    "            except ValueError:\n",
    "                print(\"Invalid input! Please enter numbers only.\")\n",
    "\n",
    "        elif choice == '3':\n",
    "            try:\n",
    "                revenue = float(input(\"Enter revenue: \"))\n",
    "                expenses = float(input(\"Enter expenses: \"))\n",
    "                result = finance.calculate_net_income(revenue, expenses)\n",
    "                print(\"Net Income:\", result)\n",
    "            except ValueError:\n",
    "                print(\"Invalid input! Please enter numbers only.\")\n",
    "\n",
    "        elif choice == '4':\n",
    "            print(\"Exiting program. Goodbye!\")\n",
    "            return  # Exits the function and stops execution\n",
    "\n",
    "        else:\n",
    "            print(\"Invalid choice. Please enter a number between 1 and 4.\")\n",
    "\n",
    "# Run the main function\n",
    "if __name__ == \"__main__\":\n",
    "    main()\n"
   ]
  },
  {
   "cell_type": "markdown",
   "metadata": {
    "id": "njxnTXkM888r"
   },
   "source": [
    "\n",
    "## **End of Lab**"
   ]
  }
 ],
 "metadata": {
  "colab": {
   "provenance": []
  },
  "kernelspec": {
   "display_name": "Python [conda env:anaconda3]",
   "language": "python",
   "name": "conda-env-anaconda3-py"
  },
  "language_info": {
   "codemirror_mode": {
    "name": "ipython",
    "version": 3
   },
   "file_extension": ".py",
   "mimetype": "text/x-python",
   "name": "python",
   "nbconvert_exporter": "python",
   "pygments_lexer": "ipython3",
   "version": "3.12.7"
  }
 },
 "nbformat": 4,
 "nbformat_minor": 4
}
